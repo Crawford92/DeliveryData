{
 "cells": [
  {
   "cell_type": "code",
   "execution_count": 1,
   "id": "fd7c65f1",
   "metadata": {},
   "outputs": [
    {
     "name": "stdout",
     "output_type": "stream",
     "text": [
      "Why hello there\n"
     ]
    }
   ],
   "source": [
    "print(\"Why hello there\")"
   ]
  },
  {
   "cell_type": "code",
   "execution_count": 2,
   "id": "e1ff7218",
   "metadata": {},
   "outputs": [],
   "source": [
    "import cv2\n",
    "import pytesseract"
   ]
  },
  {
   "cell_type": "code",
   "execution_count": 3,
   "id": "feae0424",
   "metadata": {},
   "outputs": [
    {
     "name": "stdout",
     "output_type": "stream",
     "text": [
      "((( BREAKING NEWS )))\n",
      "\f",
      "\n"
     ]
    }
   ],
   "source": [
    "img = cv2.imread('breakingnews.png')\n",
    "\n",
    "text = pytesseract.image_to_string(img)\n",
    "print(text)"
   ]
  },
  {
   "cell_type": "code",
   "execution_count": 31,
   "id": "b09fc87f",
   "metadata": {},
   "outputs": [
    {
     "name": "stdout",
     "output_type": "stream",
     "text": [
      "_______________________________________________________________IMG_2362.PNG_______________________________________________________________\n",
      "ExifOffset - 38\n",
      "Orientation - 1\n",
      "ExifImageHeight - 2778\n",
      "ExifImageWidth - 1284\n",
      "DateTimeOriginal - 2023:06:25 00:43:14\n",
      "UserComment - b'ASCII\\x00\\x00\\x00Screenshot'\n"
     ]
    }
   ],
   "source": [
    "#CODE SLIGHTLY MODIFIED, ORIGINALLY ACQUIRED FROM DAVID BOMBAL\n",
    "### https://github.com/davidbombal/red-python-scripts/blob/main/exif.py ###\n",
    "\n",
    "\n",
    "#I guess what we'd want really is, since we know gps data doesn't exist\n",
    "#is to strip this down to just print all tags\n",
    "\n",
    "from PIL import Image\n",
    "from PIL.ExifTags import GPSTAGS, TAGS\n",
    "file = \"IMG_2362.PNG\"\n",
    "#file = \"IMG_0035.JPG\"\n",
    "try:\n",
    "        # Open the image file. We open the file in binary format for reading.\n",
    "        image = Image.open(file)\n",
    "        print(f\"_______________________________________________________________{file}_______________________________________________________________\")\n",
    "        # The ._getexif() method returns a dictionary. .items() method returns a list of all dictionary keys and values.\n",
    "        gps_coords = {}\n",
    "        # We check if exif data are defined for the image. \n",
    "        if image._getexif() == None:\n",
    "            print(f\"{file} contains no exif data.\")\n",
    "        # If exif data are defined we can cycle through the tag, and value for the file.\n",
    "        else:\n",
    "            for tag, value in image._getexif().items():\n",
    "                # If you print the tag without running it through the TAGS.get() method you'll get numerical values for every tag. We want the tags in human-readable form. \n",
    "                # You can see the tags and the associated decimal number in the exif standard here: https://exiv2.org/tags.html\n",
    "                tag_name = TAGS.get(tag)\n",
    "                if tag_name == \"GPSInfo\":\n",
    "                    for key, val in value.items():\n",
    "                        print(\"GPS DATA FOUND\")\n",
    "                        # Print the GPS Data value for every key to the screen.\n",
    "                        print(f\"{GPSTAGS.get(key)} - {val}\")\n",
    "                        # We add Latitude data to the gps_coord dictionary which we initialized in line 110.\n",
    "                        if GPSTAGS.get(key) == \"GPSLatitude\":\n",
    "                            gps_coords[\"lat\"] = val\n",
    "                        # We add Longitude data to the gps_coord dictionary which we initialized in line 110.\n",
    "                        elif GPSTAGS.get(key) == \"GPSLongitude\":\n",
    "                            gps_coords[\"lon\"] = val\n",
    "                        # We add Latitude reference data to the gps_coord dictionary which we initialized in line 110.\n",
    "                        elif GPSTAGS.get(key) == \"GPSLatitudeRef\":\n",
    "                            gps_coords[\"lat_ref\"] = val\n",
    "                        # We add Longitude reference data to the gps_coord dictionary which we initialized in line 110.\n",
    "                        elif GPSTAGS.get(key) == \"GPSLongitudeRef\":\n",
    "                            gps_coords[\"lon_ref\"] = val   \n",
    "                else:\n",
    "                    # We print data not related to the GPSInfo.\n",
    "                    #print(\"GPS DATA DID NOT WORK\")\n",
    "                    print(f\"{tag_name} - {value}\")\n",
    "            # We print the longitudinal and latitudinal data which has been formatted for Google Maps. We only do so if the GPS Coordinates exists. \n",
    "            if gps_coords:\n",
    "                dec_deg_lat = convert_decimal_degrees(float(gps_coords[\"lat\"][0]),  float(gps_coords[\"lat\"][1]), float(gps_coords[\"lat\"][2]), gps_coords[\"lat_ref\"])\n",
    "                # We extract the data from the dictionary we sent to this function for longitudinal data.\n",
    "                dec_deg_lon = convert_decimal_degrees(float(gps_coords[\"lon\"][0]),  float(gps_coords[\"lon\"][1]), float(gps_coords[\"lon\"][2]), gps_coords[\"lon_ref\"])    \n",
    "                print(dec_deg_lat, dec_deg_lon)\n",
    "                #print(gps_coords)\n",
    "            # Change back to the original working directory.\n",
    "except IOError:\n",
    "    print(\"File format not supported!\")\n",
    "\n",
    "    "
   ]
  },
  {
   "cell_type": "code",
   "execution_count": 43,
   "id": "3ff9b8a6",
   "metadata": {},
   "outputs": [
    {
     "name": "stdout",
     "output_type": "stream",
     "text": [
      "ExifImageHeight - 2778\n",
      "ExifImageWidth - 1284\n",
      "DateTimeOriginal - 2023:06:25 00:43:14\n"
     ]
    }
   ],
   "source": [
    "file = \"IMG_2362.PNG\"\n",
    "#file = \"IMG_0035.JPG\"\n",
    "try:\n",
    "        image = Image.open(file)\n",
    "        #print(f\"_______{file}________________\")\n",
    "        if image._getexif() == None:\n",
    "            print(f\"{file} contains no exif data.\")\n",
    "        else:\n",
    "            for tag, value in image._getexif().items():\n",
    "                tag_name = TAGS.get(tag)\n",
    "                if tag_name == \"DateTimeOriginal\" or tag_name == \"ExifImageHeight\" or tag_name == \"ExifImageWidth\":\n",
    "                    print(f\"{tag_name} - {value}\")\n",
    "except IOError:\n",
    "    print(\"File format not supported!\")"
   ]
  },
  {
   "cell_type": "code",
   "execution_count": 44,
   "id": "7d545f86",
   "metadata": {},
   "outputs": [
    {
     "name": "stdout",
     "output_type": "stream",
     "text": [
      "Mel oa oe ee TaDy Decline\n",
      "E Be\n",
      "%\n",
      "i\n",
      "2.\n",
      "\n",
      "E\n",
      "@ oe\n",
      "© avo\n",
      "=\n",
      "oO\n",
      "(ep)\n",
      "ra\n",
      "\n",
      " \n",
      "\n",
      "Olive Ave\n",
      "\n",
      "Belching Beaver Brewery\n",
      "Tavern,and Grill\n",
      "\n",
      "Vista\n",
      "Raising Cane's @\n",
      "ra\n",
      "\n",
      "$6.75 Guaranteed (incl. tips)\n",
      "\n",
      "2.9 mi\n",
      "Deliver by 12:55 AM\n",
      "\n",
      "a Pickup\n",
      "| Jack in the Box\n",
      "tad\n",
      "\n",
      "Customer dropoff\n",
      "\f",
      "\n"
     ]
    }
   ],
   "source": [
    "img = cv2.imread('IMG_2362.PNG')\n",
    "\n",
    "text = pytesseract.image_to_string(img)\n",
    "print(text)"
   ]
  },
  {
   "cell_type": "code",
   "execution_count": null,
   "id": "ff61caf7",
   "metadata": {},
   "outputs": [],
   "source": [
    "#So it does read the map, poorly, but if we look for \n",
    "# $* Guaranteed \n",
    "# * mi (although for super short things it does show in yards)\n",
    "# and then grab the rest name from after Pickup | \n",
    "\n",
    "#So step one, strip it until a string matching $* Guaranteed is found\n",
    "#then pull that, distance, and rest name\n",
    "\n",
    "\n",
    "#So we want to get a thing that strips the text down to relevant\n",
    "#Then we want a thing to do this for every image in some folder\n",
    "\n",
    "#So after every shift, drag files into the folder, run the script, it extracts timestamp data and "
   ]
  },
  {
   "cell_type": "code",
   "execution_count": 45,
   "id": "71a91764",
   "metadata": {},
   "outputs": [
    {
     "name": "stdout",
     "output_type": "stream",
     "text": [
      "<class 'str'>\n"
     ]
    }
   ],
   "source": [
    "print(type(text))"
   ]
  },
  {
   "cell_type": "code",
   "execution_count": 48,
   "id": "5dff3855",
   "metadata": {},
   "outputs": [
    {
     "name": "stdout",
     "output_type": "stream",
     "text": [
      "149\n",
      "$6.75 Guaranteed (incl. tips)\n",
      "\n",
      "2.9 mi\n",
      "Deliver by 12:55 AM\n",
      "\n",
      "a Pickup\n",
      "| Jack in the Box\n",
      "tad\n",
      "\n",
      "Customer dropoff\n",
      "\f",
      "\n"
     ]
    }
   ],
   "source": [
    "dollarPos = text.index(\"$\")\n",
    "print(dollarPos)\n",
    "print(text[dollarPos:])"
   ]
  },
  {
   "cell_type": "code",
   "execution_count": 49,
   "id": "784bd34a",
   "metadata": {},
   "outputs": [
    {
     "name": "stdout",
     "output_type": "stream",
     "text": [
      "Mel oa oe ee TaDy Decline\n",
      "E Be\n",
      "%\n",
      "i\n",
      "2.\n",
      "\n",
      "E\n",
      "@ oe\n",
      "© avo\n",
      "=\n",
      "oO\n",
      "(ep)\n",
      "ra\n",
      "\n",
      " \n",
      "\n",
      "Olive Ave\n",
      "\n",
      "Belching Beaver Brewery\n",
      "Tavern,and Grill\n",
      "\n",
      "Vista\n",
      "Raising Cane's @\n",
      "ra\n",
      "\n",
      "$6.75 Guaranteed (incl. tips)\n",
      "\n",
      "2.9 mi\n",
      "Deliver by 12:55 AM\n",
      "\n",
      "a Pickup\n",
      "| Jack in the Box\n",
      "tad\n",
      "\n",
      "Customer dropoff\n",
      "\n"
     ]
    }
   ],
   "source": [
    "for line in text.splitlines():\n",
    "    print(line)"
   ]
  },
  {
   "cell_type": "code",
   "execution_count": 67,
   "id": "60a83a27",
   "metadata": {},
   "outputs": [
    {
     "name": "stdout",
     "output_type": "stream",
     "text": [
      "['$6.75 Guaranteed (incl. tips)', '', '2.9 mi', 'Deliver by 12:55 AM', '', 'a Pickup', '| Jack in the Box', 'tad', '', 'Customer dropoff', '']\n"
     ]
    }
   ],
   "source": [
    "position = text.index(\"$\")\n",
    "#textsplit = textsplit.strip(\"\\n\")\n",
    "textsplit = text[position:].splitlines()\n",
    "#textsplit = textsplit.remove('')\n",
    "print(textsplit)"
   ]
  },
  {
   "cell_type": "code",
   "execution_count": 69,
   "id": "1ced674e",
   "metadata": {},
   "outputs": [
    {
     "name": "stdout",
     "output_type": "stream",
     "text": [
      "['$6.75 Guaranteed (incl. tips)', '2.9 mi', 'Deliver by 12:55 AM', 'a Pickup', '| Jack in the Box', 'tad', 'Customer dropoff']\n"
     ]
    }
   ],
   "source": [
    "#textsplit.remove('')\n",
    "#print(textsplit)\n",
    "#this just removes the first one\n",
    "while (\"\" in textsplit):\n",
    "    textsplit.remove(\"\")\n",
    "print(textsplit)"
   ]
  },
  {
   "cell_type": "code",
   "execution_count": 73,
   "id": "a4e81e22",
   "metadata": {},
   "outputs": [
    {
     "name": "stdout",
     "output_type": "stream",
     "text": [
      "$6.75 Guaranteed (incl. tips) 2.9 mi | Jack in the Box\n",
      "$6.75 2.9  Jack in the Box\n"
     ]
    }
   ],
   "source": [
    "#Okay so, remove just removes the first instance from a list, it would make sense to have to iterate through it \n",
    "\n",
    "#Now we want to extract to three vars, dollar amount, mileage, and rest name\n",
    "#I think we can assume that this will always be the format at this point, at least we can test for now\n",
    "#so we want the first line until the first whitespace\n",
    "#the second line until whitespace (and eventually to check mi or yards)\n",
    "#and the 5th line after whitespace\n",
    "\n",
    "#We might later want to just use all over textsplit[1] on the off chance its in yards\n",
    "#and if yards convert to miles\n",
    "\n",
    "var1 = textsplit[0]\n",
    "var2 = textsplit[1]\n",
    "var3 = textsplit[4]\n",
    "print (var1, var2, var3)\n",
    "index1 = var1.index(\" \")\n",
    "var1 = var1[:index1]\n",
    "index2 = var2.index(\" \")\n",
    "var2 = var2[:index2]\n",
    "index3 = var3.index(\" \")\n",
    "var3 = var3[index3:]\n",
    "print (var1, var2, var3)"
   ]
  },
  {
   "cell_type": "code",
   "execution_count": 81,
   "id": "9ecc96a2",
   "metadata": {},
   "outputs": [
    {
     "name": "stdout",
     "output_type": "stream",
     "text": [
      "IMG_2289.PNG\n",
      "IMG_2303.PNG\n",
      "IMG_2319.PNG\n",
      "IMG_2358.PNG\n",
      "IMG_2288.PNG\n",
      "IMG_2341.PNG\n",
      "IMG_2334.PNG\n",
      "IMG_2361.PNG\n",
      "IMG_2283.PNG\n",
      "IMG_2359.PNG\n",
      "IMG_2308.PNG\n",
      "IMG_2327.PNG\n",
      "IMG_2318.PNG\n",
      "IMG_2321.PNG\n",
      "IMG_2279.PNG\n",
      "IMG_2330.PNG\n",
      "IMG_2362.PNG\n",
      "IMG_2351.PNG\n",
      "IMG_2349.PNG\n",
      "IMG_2314.PNG\n",
      "IMG_2281.PNG\n",
      "IMG_2317.PNG\n",
      "IMG_2323.PNG\n",
      "IMG_2363.PNG\n",
      "IMG_2306.PNG\n",
      "IMG_2339.PNG\n",
      "IMG_2329.PNG\n",
      "IMG_2326.PNG\n",
      "IMG_2352.PNG\n",
      "IMG_2332.PNG\n",
      "IMG_2360.PNG\n",
      "IMG_2284.PNG\n",
      "IMG_2348.PNG\n",
      "IMG_2336.PNG\n",
      "IMG_2298.PNG\n",
      "IMG_2343.PNG\n",
      "NotForProcessing\n",
      "IMG_2287.PNG\n",
      "IMG_2328.PNG\n",
      "IMG_2309.PNG\n",
      "IMG_2322.PNG\n",
      "IMG_2304.PNG\n",
      "IMG_2296.PNG\n",
      "IMG_2345.PNG\n",
      "IMG_2280.PNG\n",
      "IMG_2312.PNG\n",
      "IMG_2301.PNG\n",
      "IMG_2347.PNG\n",
      "IMG_2333.PNG\n",
      "IMG_2340.PNG\n",
      "IMG_2338.PNG\n",
      "IMG_2315.PNG\n",
      "IMG_2346.PNG\n",
      "IMG_2324.PNG\n",
      "IMG_2353.PNG\n",
      "IMG_2337.PNG\n",
      "IMG_2350.PNG\n",
      "IMG_2320.PNG\n",
      "IMG_2325.PNG\n",
      "IMG_2366.PNG\n",
      "IMG_2367.PNG\n",
      "IMG_2354.PNG\n"
     ]
    }
   ],
   "source": [
    "#Get all the file names\n",
    "#So we'll want a function to extract the text, but we need to identify an offer vs a complete \n",
    "#and also a stack\n",
    "# So if Guaranteed (inc. tips) in text, then is offer, if first char of that is + then staggered stack\n",
    "# else, do other format\n",
    "# What is heuristic for natural stack, says pickup twice?? yeah same or diff cust addr will say pickup twice\n",
    "\n",
    "#We cant hard track 2nd and 5th indeces, so we need to look for miles (or yards) and then, well | I guess\n",
    "#Look for | twice for natty stacks\n",
    "\n",
    "import os\n",
    "#print(os.getcwd())\n",
    "dir1 = os.getcwd() + \"/ScreenShots\"\n",
    "#print(type(os.listdir(dir)))\n",
    "#imageList = os.listdir(dir1)\n",
    "#for file in imageList:\n",
    "#    print(file)\n"
   ]
  },
  {
   "cell_type": "code",
   "execution_count": 146,
   "id": "a36fe0e5",
   "metadata": {},
   "outputs": [
    {
     "name": "stdout",
     "output_type": "stream",
     "text": [
      "IMG_2279.PNG\n",
      "IMG_2280.PNG\n",
      "IMG_2281.PNG\n",
      "IMG_2283.PNG\n",
      "IMG_2284.PNG\n",
      "IMG_2288.PNG\n",
      "IMG_2289.PNG\n",
      "IMG_2296.PNG\n",
      "IMG_2298.PNG\n",
      "IMG_2301.PNG\n",
      "IMG_2303.PNG\n",
      "IMG_2304.PNG\n",
      "IMG_2306.PNG\n",
      "IMG_2308.PNG\n",
      "IMG_2309.PNG\n",
      "IMG_2312.PNG\n",
      "IMG_2319.PNG\n",
      "IMG_2320.PNG\n",
      "IMG_2321.PNG\n",
      "IMG_2322.PNG\n",
      "IMG_2324.PNG\n",
      "IMG_2325.PNG\n",
      "IMG_2326.PNG\n",
      "IMG_2327.PNG\n",
      "IMG_2328.PNG\n",
      "IMG_2329.PNG\n",
      "IMG_2332.PNG\n",
      "IMG_2333.PNG\n",
      "IMG_2334.PNG\n",
      "IMG_2336.PNG\n",
      "IMG_2337.PNG\n",
      "IMG_2338.PNG\n",
      "IMG_2339.PNG\n",
      "IMG_2340.PNG\n",
      "IMG_2341.PNG\n",
      "IMG_2343.PNG\n",
      "IMG_2345.PNG\n",
      "IMG_2346.PNG\n",
      "IMG_2347.PNG\n",
      "IMG_2348.PNG\n",
      "IMG_2349.PNG\n",
      "IMG_2350.PNG\n",
      "IMG_2351.PNG\n",
      "IMG_2352.PNG\n",
      "IMG_2353.PNG\n",
      "IMG_2354.PNG\n",
      "IMG_2358.PNG\n",
      "IMG_2359.PNG\n",
      "IMG_2360.PNG\n",
      "IMG_2361.PNG\n",
      "IMG_2362.PNG\n",
      "IMG_2363.PNG\n",
      "IMG_2366.PNG\n",
      "IMG_2367.PNG\n"
     ]
    }
   ],
   "source": [
    "from os import walk\n",
    "filenames = next(walk(dir1), (None, None, []))[2]\n",
    "#Okay that seems like a pretty decent oneliner, will need to look into how walk actually works later on\n",
    "filenames = sorted(filenames)\n",
    "for file in filenames:\n",
    "    print(file)"
   ]
  },
  {
   "cell_type": "code",
   "execution_count": 84,
   "id": "ef8716b0",
   "metadata": {},
   "outputs": [
    {
     "name": "stdout",
     "output_type": "stream",
     "text": [
      "IMG_2289.PNG\n",
      "IMG_2303.PNG\n",
      "IMG_2319.PNG\n",
      "IMG_2358.PNG\n",
      "IMG_2288.PNG\n",
      "IMG_2341.PNG\n",
      "IMG_2334.PNG\n",
      "IMG_2361.PNG\n",
      "IMG_2283.PNG\n",
      "IMG_2359.PNG\n",
      "IMG_2308.PNG\n",
      "IMG_2327.PNG\n",
      "IMG_2318.PNG\n",
      "IMG_2321.PNG\n",
      "IMG_2279.PNG\n",
      "IMG_2330.PNG\n",
      "IMG_2362.PNG\n",
      "IMG_2351.PNG\n",
      "IMG_2349.PNG\n",
      "IMG_2314.PNG\n",
      "IMG_2281.PNG\n",
      "IMG_2317.PNG\n",
      "IMG_2323.PNG\n",
      "IMG_2363.PNG\n",
      "IMG_2306.PNG\n",
      "IMG_2339.PNG\n",
      "IMG_2329.PNG\n",
      "IMG_2326.PNG\n",
      "IMG_2352.PNG\n",
      "IMG_2332.PNG\n",
      "IMG_2360.PNG\n",
      "IMG_2284.PNG\n",
      "IMG_2348.PNG\n",
      "IMG_2336.PNG\n",
      "IMG_2298.PNG\n",
      "IMG_2343.PNG\n",
      "IMG_2287.PNG\n",
      "IMG_2328.PNG\n",
      "IMG_2309.PNG\n",
      "IMG_2322.PNG\n",
      "IMG_2304.PNG\n",
      "IMG_2296.PNG\n",
      "IMG_2345.PNG\n",
      "IMG_2280.PNG\n",
      "IMG_2312.PNG\n",
      "IMG_2301.PNG\n",
      "IMG_2347.PNG\n",
      "IMG_2333.PNG\n",
      "IMG_2340.PNG\n",
      "IMG_2338.PNG\n",
      "IMG_2315.PNG\n",
      "IMG_2346.PNG\n",
      "IMG_2324.PNG\n",
      "IMG_2353.PNG\n",
      "IMG_2337.PNG\n",
      "IMG_2350.PNG\n",
      "IMG_2320.PNG\n",
      "IMG_2325.PNG\n",
      "IMG_2366.PNG\n",
      "IMG_2367.PNG\n",
      "IMG_2354.PNG\n"
     ]
    }
   ],
   "source": [
    "#for file in filenames:\n",
    "#    print(file)"
   ]
  },
  {
   "cell_type": "code",
   "execution_count": 89,
   "id": "f3f34277",
   "metadata": {},
   "outputs": [
    {
     "name": "stdout",
     "output_type": "stream",
     "text": [
      "/home/crawford/Desktop/Code/dashstats/ScreenShotsIMG_2289.PNG\n",
      "$11.50 Guaranteed (incl. tips)\n",
      "10.8 mi\n",
      "Deliver by 3:31PM\n",
      "Pickup\n",
      "Sushi Yukiya\n",
      "Retail Pickup\n",
      "7-Eleven\n",
      "f Customer dropoff\n",
      "5) Both orders go to the same customer\n",
      "Accept\n",
      " \n"
     ]
    }
   ],
   "source": [
    "#print(dir1 + filenames[0])\n",
    "\n",
    "img = cv2.imread(dir1 + \"/\" + filenames[0])\n",
    "text = pytesseract.image_to_string(img)\n",
    "position = text.index(\"$\")\n",
    "textsplit = text[position:].splitlines()\n",
    "while (\"\" in textsplit):\n",
    "    textsplit.remove(\"\")\n",
    "for line in textsplit:\n",
    "    print(line)\n",
    "    \n",
    "#Okay, interesting, workable, files are not sorted and we dont have a | to look for, so the line after Pickup?\n",
    "#If pickup appears twice, line after 1st and second pickup"
   ]
  },
  {
   "cell_type": "code",
   "execution_count": 90,
   "id": "9c297931",
   "metadata": {},
   "outputs": [
    {
     "name": "stdout",
     "output_type": "stream",
     "text": [
      "$13.50 Guaranteed (incl. tips)\n",
      "5.5 mi\n",
      "Deliver by 1:45 PM\n",
      "a Pickup\n",
      "China Fusion\n",
      "f Customer dropoff\n"
     ]
    }
   ],
   "source": [
    "# NEW ORDER LIGHT MODE\n",
    "filenames = sorted(filenames)\n",
    "img = cv2.imread(dir1 + \"/\" + filenames[0])\n",
    "text = pytesseract.image_to_string(img)\n",
    "position = text.index(\"$\")\n",
    "textsplit = text[position:].splitlines()\n",
    "while (\"\" in textsplit):\n",
    "    textsplit.remove(\"\")\n",
    "for line in textsplit:\n",
    "    print(line)\n",
    "    \n",
    "#Beautiful! Lets see what a complete looks like"
   ]
  },
  {
   "cell_type": "code",
   "execution_count": 95,
   "id": "9ed8fed8",
   "metadata": {},
   "outputs": [
    {
     "name": "stdout",
     "output_type": "stream",
     "text": [
      "TIME SENSITIVE\n",
      "\n",
      "New Message from\n",
      "\n",
      " \n",
      "\n",
      "© Earn per offer\n",
      "\n",
      "Delivery Completed\n",
      "DoorDash Pay\n",
      "Base Pay\n",
      "\n",
      "Customer Tips\n",
      "China Fusion\n",
      "\n",
      "Total @\n",
      "\n",
      " \n",
      "\f",
      "\n"
     ]
    }
   ],
   "source": [
    "filenames = sorted(filenames)\n",
    "img = cv2.imread(dir1 + \"/\" + filenames[1])\n",
    "text = pytesseract.image_to_string(img)\n",
    "print(text)\n",
    "\n",
    "#Not beautiful! It doesn't read in the numbers? We do not like this, so we need to poke around opencv\n",
    "#or pytess docs further"
   ]
  },
  {
   "cell_type": "code",
   "execution_count": 101,
   "id": "9fb7bf5a",
   "metadata": {},
   "outputs": [
    {
     "name": "stdout",
     "output_type": "stream",
     "text": [
      "© Earn per offer\n",
      "Delivery Completed\n",
      "DoorDash Pay\n",
      "Base Pay $4.00\n",
      "Customer Tips\n",
      "Hooked on Sushi (Carlsbad) $5.00\n",
      "Total © $9.00\n",
      "\f",
      "\n"
     ]
    }
   ],
   "source": [
    "#Order complete (light mode)\n",
    "\n",
    "filenames = sorted(filenames)\n",
    "img = cv2.imread(dir1 + \"/\" + filenames[3])\n",
    "gray = cv2.cvtColor(img, cv2.COLOR_BGR2GRAY)\n",
    "thresh = cv2.threshold(gray, 0, 255, cv2.THRESH_BINARY + cv2.THRESH_OTSU)[1]\n",
    "\n",
    "data = pytesseract.image_to_string(thresh, lang='eng',config='--psm 6')\n",
    "\n",
    "\n",
    "#text = pytesseract.image_to_string(img)\n",
    "print(data)"
   ]
  },
  {
   "cell_type": "code",
   "execution_count": null,
   "id": "3857f36b",
   "metadata": {},
   "outputs": [],
   "source": [
    "#OKAY SICK, SO ITS WONKY BUT WE HAVE 4 BASE 5 TIP AND 9 TOTAL\n",
    "#oh so, the image actually looks like that, kind of silly, ANYWAY, this has been a good 2am stack overflow discovery\n",
    "# brought to you by nathancy from https://stackoverflow.com/questions/58528157/how-to-extract-words-from-left-to-right-in-an-image-with-opencv-pytesseract\n"
   ]
  },
  {
   "cell_type": "code",
   "execution_count": 102,
   "id": "fa9b3eae",
   "metadata": {},
   "outputs": [
    {
     "name": "stdout",
     "output_type": "stream",
     "text": [
      "ET all 5GY GD\n",
      "— Looking for orders ‘eo ,\n",
      "Finding orders headed back to zone\n",
      "Navigate back to your zone\n",
      "$245.\n",
      "w this dash\n",
      "eure\n",
      "xe ww Fs\n",
      "& Note s B\n",
      "ocd & rr)\n",
      "50 Olive Ave\n",
      "a\n",
      "ae\n",
      "© Earn per offer\n",
      "Delivery Completed\n",
      "\n",
      "Drool PET ew]\n",
      "SE MeN $4.75\n",
      "Peak Pay $2.00\n",
      "Customer Tips\n",
      "Jack in the Box (55) -\n",
      "Total © $6.75\n",
      "\f",
      "\n"
     ]
    }
   ],
   "source": [
    "#NIGHTMODE WITH GRAY+THRESH\n",
    "filenames = sorted(filenames)\n",
    "img = cv2.imread(dir1 + \"/\" + filenames[-1])\n",
    "gray = cv2.cvtColor(img, cv2.COLOR_BGR2GRAY)\n",
    "thresh = cv2.threshold(gray, 0, 255, cv2.THRESH_BINARY + cv2.THRESH_OTSU)[1]\n",
    "\n",
    "data = pytesseract.image_to_string(thresh, lang='eng',config='--psm 6')\n",
    "\n",
    "\n",
    "#text = pytesseract.image_to_string(img)\n",
    "print(data)"
   ]
  },
  {
   "cell_type": "code",
   "execution_count": 105,
   "id": "0b9d4374",
   "metadata": {},
   "outputs": [
    {
     "name": "stdout",
     "output_type": "stream",
     "text": [
      "Delivery Completed\n",
      "DoorDash Pay\n",
      "SoM aN $4.75\n",
      "Peak Pay $2.00\n",
      "Customer Tips\n",
      "Jack in the Box (55) =\n",
      "Total © $6.75\n"
     ]
    }
   ],
   "source": [
    "#NIGHTMODE WITHOUT THRESHGRAY\n",
    "filenames = sorted(filenames)\n",
    "img = cv2.imread(dir1 + \"/\" + filenames[-1])\n",
    "\n",
    "data = pytesseract.image_to_string(img)\n",
    "\n",
    "position = data.index(\"Delivery Completed\")\n",
    "textsplit = data[position:].splitlines()\n",
    "while (\"\" in textsplit):\n",
    "    textsplit.remove(\"\")\n",
    "for line in textsplit:\n",
    "    print(line)"
   ]
  },
  {
   "cell_type": "code",
   "execution_count": 106,
   "id": "1f73b400",
   "metadata": {},
   "outputs": [
    {
     "name": "stdout",
     "output_type": "stream",
     "text": [
      "Delivery Completed\n",
      "DoorDash Pay\n",
      "BE Ny $2.00\n",
      "Peak Pay $2.00\n",
      "Customer Tips\n",
      "Jack in the Box (55) $1.00\n",
      "Total © $5.00\n",
      "High pay order\n",
      "Your high acceptance rate and customer\n",
      "rating gave you priority for this order.\n"
     ]
    }
   ],
   "source": [
    "#NIGHTMODE WITHOUT THRESHGRAY SECOND TO LAST IMAGE\n",
    "filenames = sorted(filenames)\n",
    "img = cv2.imread(dir1 + \"/\" + filenames[-2])\n",
    "\n",
    "data = pytesseract.image_to_string(img)\n",
    "\n",
    "position = data.index(\"Delivery Completed\")\n",
    "textsplit = data[position:].splitlines()\n",
    "while (\"\" in textsplit):\n",
    "    textsplit.remove(\"\")\n",
    "for line in textsplit:\n",
    "    print(line)"
   ]
  },
  {
   "cell_type": "code",
   "execution_count": 107,
   "id": "4b47f116",
   "metadata": {},
   "outputs": [
    {
     "name": "stdout",
     "output_type": "stream",
     "text": [
      "$5.00 Guaranteed (incl. tips)\n",
      "Additional 0.5 mi\n",
      "Deliver by 1:05 AM\n",
      "a Pickup\n",
      "Jack in the Box\n",
      "f Customer dropoff\n"
     ]
    }
   ],
   "source": [
    "#NIGHTMODE WITHOUT THRESHGRAY\n",
    "filenames = sorted(filenames)\n",
    "img = cv2.imread(dir1 + \"/\" + filenames[-3])\n",
    "\n",
    "data = pytesseract.image_to_string(img)\n",
    "\n",
    "position = data.index(\"$\")\n",
    "textsplit = data[position:].splitlines()\n",
    "while (\"\" in textsplit):\n",
    "    textsplit.remove(\"\")\n",
    "for line in textsplit:\n",
    "    print(line)"
   ]
  },
  {
   "cell_type": "code",
   "execution_count": 108,
   "id": "da47badd",
   "metadata": {},
   "outputs": [
    {
     "name": "stdout",
     "output_type": "stream",
     "text": [
      "$6.75 Guaranteed (incl. tips)\n",
      "2.9 mi\n",
      "Deliver by 12:55 AM\n",
      "a Pickup\n",
      "| Jack in the Box\n",
      "tad\n",
      "Customer dropoff\n"
     ]
    }
   ],
   "source": [
    "#NIGHTMODE WITHOUT THRESHGRAY\n",
    "filenames = sorted(filenames)\n",
    "img = cv2.imread(dir1 + \"/\" + filenames[-4])\n",
    "\n",
    "data = pytesseract.image_to_string(img)\n",
    "\n",
    "position = data.index(\"$\")\n",
    "textsplit = data[position:].splitlines()\n",
    "while (\"\" in textsplit):\n",
    "    textsplit.remove(\"\")\n",
    "for line in textsplit:\n",
    "    print(line)"
   ]
  },
  {
   "cell_type": "code",
   "execution_count": 110,
   "id": "0a8a3d59",
   "metadata": {},
   "outputs": [
    {
     "name": "stdout",
     "output_type": "stream",
     "text": [
      "$11.50 Guaranteed (incl. tips)\n",
      "10.8 mi\n",
      "Deliver by 3:31PM\n",
      "Pickup\n",
      "Sushi Yukiya\n",
      "Retail Pickup\n",
      "7-Eleven\n",
      "f Customer dropoff\n",
      "5) Both orders go to the same customer\n",
      "Accept\n",
      " \n"
     ]
    }
   ],
   "source": [
    "#LOOKING AT 7 AND 8 FOR NATTY STACK LIGHTMODE RETAIL\n",
    "\n",
    "filenames = sorted(filenames)\n",
    "img = cv2.imread(dir1 + \"/\" + filenames[7])\n",
    "\n",
    "data = pytesseract.image_to_string(img)\n",
    "\n",
    "position = data.index(\"$\")\n",
    "textsplit = data[position:].splitlines()\n",
    "while (\"\" in textsplit):\n",
    "    textsplit.remove(\"\")\n",
    "for line in textsplit:\n",
    "    print(line)"
   ]
  },
  {
   "cell_type": "code",
   "execution_count": 111,
   "id": "e11a9e0f",
   "metadata": {},
   "outputs": [
    {
     "name": "stdout",
     "output_type": "stream",
     "text": [
      "$11.50\n",
      "Customer Tips\n",
      "7-Eleven (23302) -\n",
      "Yukiya Sushi -\n",
      "Total © $11.50\n",
      "g You earned a total of $11.50 by completing\n",
      "the deliveries you accepted.\n"
     ]
    }
   ],
   "source": [
    "filenames = sorted(filenames)\n",
    "img = cv2.imread(dir1 + \"/\" + filenames[8])\n",
    "\n",
    "data = pytesseract.image_to_string(img)\n",
    "\n",
    "position = data.index(\"$\")\n",
    "textsplit = data[position:].splitlines()\n",
    "while (\"\" in textsplit):\n",
    "    textsplit.remove(\"\")\n",
    "for line in textsplit:\n",
    "    print(line)"
   ]
  },
  {
   "cell_type": "code",
   "execution_count": 112,
   "id": "a3cb6f6d",
   "metadata": {},
   "outputs": [
    {
     "name": "stdout",
     "output_type": "stream",
     "text": [
      "$1 0.75 Guaranteed (incl. tips)\n",
      "4.2 mi\n",
      "Deliver by 4:17 PM\n",
      "a Pickup\n",
      "Pizza on tap\n",
      "f Customer dropoff\n",
      "mers\n",
      "Costco Wholesale. a\n",
      "oll 5G\n",
      "a\n",
      "Decline #2\n",
      "PEACOCK\n",
      "worth NN\n",
      "Olive Ave\n",
      "Park 9\n",
      "Urbn Li\n",
      "Cannabis Dis\n",
      "Vista QS\n",
      "   \n",
      "  \n",
      "©}\n",
      " \n"
     ]
    }
   ],
   "source": [
    "#Staggered stack check\n",
    "filenames = sorted(filenames)\n",
    "img = cv2.imread(dir1 + \"/\" + filenames[11])\n",
    "\n",
    "data = pytesseract.image_to_string(img)\n",
    "\n",
    "position = data.index(\"$\")\n",
    "textsplit = data[position:].splitlines()\n",
    "while (\"\" in textsplit):\n",
    "    textsplit.remove(\"\")\n",
    "for line in textsplit:\n",
    "    print(line)\n",
    "    \n",
    "    \n",
    "#Okay SUPER weird\n",
    "#But, we still have the format of\n",
    "# dollar guaranteed\n",
    "# mileage\n",
    "# deliver by\n",
    "# pickup\n",
    "# rest name\n",
    "# dropoff"
   ]
  },
  {
   "cell_type": "code",
   "execution_count": 113,
   "id": "d2fd1d7f",
   "metadata": {},
   "outputs": [
    {
     "name": "stdout",
     "output_type": "stream",
     "text": [
      "$7.00 Guaranteed (incl. tips)\n",
      "Additional 3.7 mi\n",
      "Deliver by 4:34 PM\n",
      "a Pickup\n",
      "Popeyes Louisiana Kitchen\n",
      "f Customer dropoff\n",
      "Add to route\n",
      " \n"
     ]
    }
   ],
   "source": [
    "#Staggered stack check\n",
    "filenames = sorted(filenames)\n",
    "img = cv2.imread(dir1 + \"/\" + filenames[12])\n",
    "\n",
    "data = pytesseract.image_to_string(img)\n",
    "\n",
    "position = data.index(\"$\")\n",
    "textsplit = data[position:].splitlines()\n",
    "while (\"\" in textsplit):\n",
    "    textsplit.remove(\"\")\n",
    "for line in textsplit:\n",
    "    print(line)"
   ]
  },
  {
   "cell_type": "code",
   "execution_count": 117,
   "id": "3e299651",
   "metadata": {},
   "outputs": [
    {
     "name": "stdout",
     "output_type": "stream",
     "text": [
      "$6.75\n",
      "DoorDash pay\n",
      " \n"
     ]
    }
   ],
   "source": [
    "#DRIVE ORDER LIGHT\n",
    "filenames = sorted(filenames)\n",
    "img = cv2.imread(dir1 + \"/\" + filenames[23])\n",
    "\n",
    "data = pytesseract.image_to_string(img)\n",
    "\n",
    "position = data.index(\"$\")\n",
    "textsplit = data[position:].splitlines()\n",
    "while (\"\" in textsplit):\n",
    "    textsplit.remove(\"\")\n",
    "for line in textsplit:\n",
    "    print(line)"
   ]
  },
  {
   "cell_type": "code",
   "execution_count": 118,
   "id": "199c7f58",
   "metadata": {},
   "outputs": [
    {
     "name": "stdout",
     "output_type": "stream",
     "text": [
      "$6.75\n",
      "Customer Tips\n",
      "Advanced Auto Parts (via OneRail) (3752\n",
      "Plaza Drive)\n",
      "Total © $6.75\n",
      "- High pay order\n",
      "op Your high acceptance rate and customer\n",
      "rating gave you priority for this order.\n"
     ]
    }
   ],
   "source": [
    "#DRIVE ORDER LIGHT\n",
    "filenames = sorted(filenames)\n",
    "img = cv2.imread(dir1 + \"/\" + filenames[24])\n",
    "\n",
    "data = pytesseract.image_to_string(img)\n",
    "\n",
    "position = data.index(\"$\")\n",
    "textsplit = data[position:].splitlines()\n",
    "while (\"\" in textsplit):\n",
    "    textsplit.remove(\"\")\n",
    "for line in textsplit:\n",
    "    print(line)"
   ]
  },
  {
   "cell_type": "code",
   "execution_count": 119,
   "id": "23b3f356",
   "metadata": {},
   "outputs": [
    {
     "name": "stdout",
     "output_type": "stream",
     "text": [
      "$8.50\n",
      "Customer Tips\n",
      "Chipotle (Mission Marketplace) $3.50\n",
      "Taco Bell (40797) $5.00\n",
      "Total © $17.00\n",
      "High pay order\n",
      "Your high acceptance rate and customer\n",
      "rating gave you priority for this order.\n"
     ]
    }
   ],
   "source": [
    "# -19 and -20\n",
    "#nat stack night mode\n",
    "filenames = sorted(filenames)\n",
    "img = cv2.imread(dir1 + \"/\" + filenames[-19])\n",
    "\n",
    "data = pytesseract.image_to_string(img)\n",
    "\n",
    "position = data.index(\"$\")\n",
    "textsplit = data[position:].splitlines()\n",
    "while (\"\" in textsplit):\n",
    "    textsplit.remove(\"\")\n",
    "for line in textsplit:\n",
    "    print(line)"
   ]
  },
  {
   "cell_type": "code",
   "execution_count": 120,
   "id": "e80d592d",
   "metadata": {},
   "outputs": [
    {
     "name": "stdout",
     "output_type": "stream",
     "text": [
      "$17.00 Guaranteed (incl. tips)\n",
      "4.1 mi\n",
      "Deliver by 10:13 PM\n",
      "Pickup\n",
      "Taco Bell\n",
      "Pickup\n",
      "Chipotle\n",
      "Customer dropoff\n",
      "»>— »>—__ |B _- II\n",
      "Customer dropoff\n"
     ]
    }
   ],
   "source": [
    "# -19 and -20\n",
    "#nat stack night mode\n",
    "filenames = sorted(filenames)\n",
    "img = cv2.imread(dir1 + \"/\" + filenames[-20])\n",
    "\n",
    "data = pytesseract.image_to_string(img)\n",
    "\n",
    "position = data.index(\"$\")\n",
    "textsplit = data[position:].splitlines()\n",
    "while (\"\" in textsplit):\n",
    "    textsplit.remove(\"\")\n",
    "for line in textsplit:\n",
    "    print(line)"
   ]
  },
  {
   "cell_type": "code",
   "execution_count": 150,
   "id": "598fbb95",
   "metadata": {},
   "outputs": [
    {
     "name": "stdout",
     "output_type": "stream",
     "text": [
      "['$13.50 Guaranteed (incl. tips)', '5.5 mi', 'Deliver by 1:45 PM', 'a Pickup', 'China Fusion', 'f Customer dropoff']\n",
      "['$9.00 Guaranteed (incl. tips)', '3.8 mi', 'Deliver by 2:05 PM', 'a Pickup', 'Hooked on Sushi', 'f Customer dropoff', ' ']\n",
      "['$6.50 Guaranteed (incl. tips)', '4.6 mi', 'Deliver by 2:26 PM', '@ Pickup', 'Chick-fil-A', 'f8 Customer dropoff']\n",
      "['$11.50 Guaranteed (incl. tips)', '10.8 mi', 'Deliver by 3:31PM', 'Pickup', 'Sushi Yukiya', 'Retail Pickup', '7-Eleven', 'f Customer dropoff', '5) Both orders go to the same customer', 'Accept', ' ']\n",
      "stack\n",
      "['$6.75 Guaranteed (incl. tips)', '3.4 mi', 'Deliver by 3:38 PM', 'a Pickup', 'Starbucks', 'f Customer dropoff']\n",
      "['$1 0.75 Guaranteed (incl. tips)', '4.2 mi', 'Deliver by 4:17 PM', 'a Pickup', 'Pizza on tap', 'f Customer dropoff', 'mers', 'Costco Wholesale. a', 'oll 5G', 'a', 'Decline #2', 'PEACOCK', 'worth NN', 'Olive Ave', 'Park 9', 'Urbn Li', 'Cannabis Dis', 'Vista QS', '   ', '  ', '©}', ' ']\n",
      "['$7.00 Guaranteed (incl. tips)', 'Additional 3.7 mi', 'Deliver by 4:34 PM', 'a Pickup', 'Popeyes Louisiana Kitchen', 'f Customer dropoff', 'Add to route', ' ']\n",
      "['$19.75 Guaranteed (incl. tips)', '10.5 mi', 'Deliver by 5:37 PM', 'a Pickup', 'Upper Crust Pizza', 'f Customer dropoff', ' ']\n",
      "['$4.75 Guaranteed (incl. tips)', '1.6 mi', 'Deliver by 6:11PM', 'a Pickup', \"Wendy's\", 'f Customer dropoff']\n",
      "['$7.75 Guaranteed (incl. tips)', '6.8 mi', 'Deliver by 7:18 PM', 'a Pickup', '| Chick-fil-A', 'ft', 'Customer dropoff', ' ']\n",
      "['$6.25 Guaranteed (incl. tips)', 'ant St', '2.2 mi', 'Deliver by 7:19 PM', '@ Retail Pickup', '7-Eleven', 'f Customer dropoff', ' ']\n",
      "['$7.75+ Guaranteed (incl. tips)', 'Total will be higher', '1.6 mi', 'Deliver by 7:35 PM', '@ Pickup', 'Sunshine Kitchen', 'f Customer dropoff', ' ']\n",
      "['$10.00 Guaranteed (incl. tips)', '4.0 mi', 'Deliver by 8:46 PM', 'a Pickup', \"Dave's Hot Chicken\", 'f Customer dropoff', ' ']\n",
      "['$5.50 Guaranteed (incl. tips)', '3.7 mi', 'Deliver by 8:58 PM', 'a Pickup', 'Kung Fu Noodle', 'f Customer dropoff', ' ']\n",
      "['$', 'oO', 'g Taylor St Decline', '= yi Off The Charts Y', 'o', '2:', 'oO', '%', 'W Bobier Dr s E Bobier D;', '6', 'side BYY ee', '2 x', '© RY', 'Oo', '= ene', 'B Brengle', '& Terrace Park', '°o', 'U <G Jer?', 'Olive Ave Belching Beaver Brewery', 'Ny, Tavern and, Grill', \"Raising Cane's Q Vista\", 'Chicken Fingers', 'Google © Harbor Freight Tools', 'TEhick-tii-as', '— oY', '+ High pay order!', 'y/ \\\\N : :', 'WV Your high ratings gave you priority for', 'this order.', '+$6.25+ Guaranteed (incl. tips)', 'Total will be higher', 'Additional 0.6 mi', 'Deliver by 8:57 PM', '@ Pickup', 'Taverna Mediterranean Cuisine', 'f Customer dropoff', 'Add to route', ' ']\n",
      "['$8.25 Guaranteed (incl. tips)', '‘Saal', 'Deliver by 9:49 PM', 'a Pickup', '| Chick-fil-A', 'f Customer dropoff']\n",
      "['$17.00 Guaranteed (incl. tips)', '4.1 mi', 'Deliver by 10:13 PM', 'Pickup', 'Taco Bell', 'Pickup', 'Chipotle', 'Customer dropoff', '»>— »>—__ |B _- II', 'Customer dropoff']\n",
      "stack\n",
      "['$5.25 Guaranteed (incl. tips)', '2.9 mi', 'Deliver by 10:48 PM', 'a Pickup', '| Chipotle', 'ft', 'Customer dropoff']\n",
      "['$7.75 Guaranteed (incl. tips)', '3.6 mi', 'Deliver by 11:06 PM', '@ Retail Pickup', '| 7-Eleven', 'ft', 'Customer dropoff']\n",
      "IMG_2348.PNG\n",
      " \n",
      "\n",
      "oO\n",
      "\n",
      "> FS\n",
      "e i pyal\n",
      "\n",
      "RS ecline\n",
      "S\n",
      "NORTH VALLEY\n",
      "ae Rd\n",
      "ey)\n",
      "Oe\n",
      "N River Rd\n",
      "\n",
      "AY, Supercenter\n",
      "\n",
      "In-N-Out Burger s\n",
      "\n",
      "®\n",
      "PAPA Mis Luis Rey\n",
      "\n",
      "ly 00 Guaranteed (incl. tips)\n",
      "\n",
      "Additional 1.7 mi\n",
      "Deliver by 11:15 PM\n",
      "\n",
      "i\n",
      "\n",
      "ee\n",
      "es\n",
      "\n",
      "a Pickup\n",
      "Pizza Hut\n",
      "\n",
      "f Customer dropoff\n",
      "\f",
      "\n",
      "['$7.00 Guaranteed (incl. tips)', '3.0 mi', 'Deliver by 11:26 PM', 'a Pickup', '| Jack in the Box', 'tad', 'Customer dropoff']\n",
      "['$11.00 Guaranteed (incl. tips)', '4.1 mi', 'Deliver by 11:47 PM', 'Pickup', 'Taco Bell', '|', 'f Customer dropoff']\n",
      "['$8.50 Guaranteed (incl. tips)', 'Additional 2.9 mi', 'Deliver by 11:51PM', 'a Pickup', 'Taco Bell', 'f Customer dropoff']\n",
      "['$15.75 Guaranteed (incl. tips)', '8.0 mi', 'Deliver by 12:46 AM', 'a Pickup', '| Taco Bell', 'tad', 'Customer dropoff']\n",
      "['$6.75 Guaranteed (incl. tips)', '2.9 mi', 'Deliver by 12:55 AM', 'a Pickup', '| Jack in the Box', 'tad', 'Customer dropoff']\n",
      "['$5.00 Guaranteed (incl. tips)', 'Additional 0.5 mi', 'Deliver by 1:05 AM', 'a Pickup', 'Jack in the Box', 'f Customer dropoff']\n",
      "26 27 1 0\n"
     ]
    }
   ],
   "source": [
    "def testFunc(input1):\n",
    "    offerCounter = completeCounter = driveCounter = thirdCounter = 0\n",
    "    for file in filenames:\n",
    "        #print(file)\n",
    "        #file to image\n",
    "        img = cv2.imread(dir1 + \"/\" + file)\n",
    "        #image to text\n",
    "        data = pytesseract.image_to_string(img)\n",
    "        if(\"Guaranteed\" in data):\n",
    "            offerCounter += 1\n",
    "            pickupCounter = 0\n",
    "            pickupCounter = data.count(\"Pickup\")\n",
    "            #print(pickupCounter)\n",
    "            if(\"$\" in data):\n",
    "                position = data.index(\"$\")\n",
    "                textsplit = data[position:].splitlines()\n",
    "                while (\"\" in textsplit):\n",
    "                    textsplit.remove(\"\")\n",
    "                print(textsplit)\n",
    "            else:\n",
    "                print(file)\n",
    "                print(data)\n",
    "        elif(\"Completed\" in data):\n",
    "            completeCounter += 1\n",
    "            if(\"Deliveries\" in data):\n",
    "                print(\"stack\")\n",
    "        elif(\"item\" in data):\n",
    "            driveCounter += 1\n",
    "        else:\n",
    "            print(file)\n",
    "            thirdCounter += 1\n",
    "    return offerCounter, completeCounter, driveCounter, thirdCounter\n",
    "\n",
    "#string1 = dir1 + \"/\" + filenames[1]\n",
    "x = testFunc(string1)\n",
    "offers = x[0]\n",
    "completes = x[1]\n",
    "drives = x[2]\n",
    "others = x[3]\n",
    "\n",
    "print(offers, completes, drives, others)\n",
    "\n",
    "\n",
    "#so maybe check for count of pickup, if 2 pull from $ line to second pickup, if 1 pull $ to pickup\n",
    "#and for debugging, if no dollar then output full text"
   ]
  },
  {
   "cell_type": "code",
   "execution_count": null,
   "id": "37a02f34",
   "metadata": {},
   "outputs": [],
   "source": [
    "#Okay so heck yeah, only 4 weird outliers, really should've done something smart you know like\n",
    "# OUTPUT THE FILE NAMES OF THE WEIRD ONES\n",
    "\n",
    "#Right so run through shows 27 offers, 25 completes, 4 others. Natty stacks do end with 1 complete\n",
    "#and we had 2 natty stacks, so, what the heck are the last 4\n",
    "\n",
    "#OOOOOOOH so natty stacks end with \"Deliveries Completed\" not \"Delivery Completed\" so that's a thing\n",
    "#Maybe look for completed instead?\n",
    "#2296 is a natty stack\n",
    "#2318 was a drive retail that we ss just for the UI that should actually be moved to the other dir\n",
    "#2321 was the drive order from onerail\n",
    "#2343 was natty stack\n",
    "\n",
    "#so maybe we could look for items as the keyword, like if guaranteed isn't there, and completed isn't\n",
    "#then look for items, then can it to the weird counter\n",
    "\n",
    "#With those updates we look for 27 27 2 0\n",
    "\n",
    "#Hmm, so....how is that possible\n",
    "#1 drive doesn't count so we have 28 starts 27 stops, natty stacks are 1:1\n",
    "\n",
    "#2323 WAS A CHICK FIL A THAT HAD BEEN FULFILLED ALREADY OKAY SO WE ARE AT 27:27 SICK\n",
    "\n",
    "#now we have lots of string parsing\n",
    "\n",
    "#The libraries did manage to read 54/54 to at least filter between offers and completions\n",
    "#So the next step will be to find all the images that can't have number values yielded\n"
   ]
  },
  {
   "cell_type": "code",
   "execution_count": null,
   "id": "8b571f3f",
   "metadata": {},
   "outputs": [],
   "source": [
    "#2336 pulls in a dollar from randomly way before the guaranteed line\n",
    "#So we want to look for the line that shows guaranteed and extract that line through pickup\n",
    "#2348, I'm not sure why it didn't read correctly but 25/26 is good for a first run"
   ]
  }
 ],
 "metadata": {
  "kernelspec": {
   "display_name": "Python 3 (ipykernel)",
   "language": "python",
   "name": "python3"
  },
  "language_info": {
   "codemirror_mode": {
    "name": "ipython",
    "version": 3
   },
   "file_extension": ".py",
   "mimetype": "text/x-python",
   "name": "python",
   "nbconvert_exporter": "python",
   "pygments_lexer": "ipython3",
   "version": "3.10.9"
  }
 },
 "nbformat": 4,
 "nbformat_minor": 5
}
