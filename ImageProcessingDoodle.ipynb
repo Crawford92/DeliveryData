{
 "cells": [
  {
   "cell_type": "code",
   "execution_count": 1,
   "id": "d6837fbb",
   "metadata": {},
   "outputs": [
    {
     "name": "stdout",
     "output_type": "stream",
     "text": [
      "Why hello there\n"
     ]
    }
   ],
   "source": [
    "print(\"Why hello there\")"
   ]
  },
  {
   "cell_type": "code",
   "execution_count": 2,
   "id": "a0d6962a",
   "metadata": {},
   "outputs": [],
   "source": [
    "import cv2\n",
    "import pytesseract"
   ]
  },
  {
   "cell_type": "code",
   "execution_count": 3,
   "id": "380447da",
   "metadata": {},
   "outputs": [
    {
     "name": "stdout",
     "output_type": "stream",
     "text": [
      "((( BREAKING NEWS )))\n",
      "\f",
      "\n"
     ]
    }
   ],
   "source": [
    "img = cv2.imread('breakingnews.png')\n",
    "\n",
    "text = pytesseract.image_to_string(img)\n",
    "print(text)"
   ]
  },
  {
   "cell_type": "code",
   "execution_count": 31,
   "id": "8046bb72",
   "metadata": {},
   "outputs": [
    {
     "name": "stdout",
     "output_type": "stream",
     "text": [
      "_______________________________________________________________IMG_2362.PNG_______________________________________________________________\n",
      "ExifOffset - 38\n",
      "Orientation - 1\n",
      "ExifImageHeight - 2778\n",
      "ExifImageWidth - 1284\n",
      "DateTimeOriginal - 2023:06:25 00:43:14\n",
      "UserComment - b'ASCII\\x00\\x00\\x00Screenshot'\n"
     ]
    }
   ],
   "source": [
    "#CODE SLIGHTLY MODIFIED, ORIGINALLY ACQUIRED FROM DAVID BOMBAL\n",
    "### https://github.com/davidbombal/red-python-scripts/blob/main/exif.py ###\n",
    "\n",
    "\n",
    "#I guess what we'd want really is, since we know gps data doesn't exist\n",
    "#is to strip this down to just print all tags\n",
    "\n",
    "from PIL import Image\n",
    "from PIL.ExifTags import GPSTAGS, TAGS\n",
    "file = \"IMG_2362.PNG\"\n",
    "#file = \"IMG_0035.JPG\"\n",
    "try:\n",
    "        # Open the image file. We open the file in binary format for reading.\n",
    "        image = Image.open(file)\n",
    "        print(f\"_______________________________________________________________{file}_______________________________________________________________\")\n",
    "        # The ._getexif() method returns a dictionary. .items() method returns a list of all dictionary keys and values.\n",
    "        gps_coords = {}\n",
    "        # We check if exif data are defined for the image. \n",
    "        if image._getexif() == None:\n",
    "            print(f\"{file} contains no exif data.\")\n",
    "        # If exif data are defined we can cycle through the tag, and value for the file.\n",
    "        else:\n",
    "            for tag, value in image._getexif().items():\n",
    "                # If you print the tag without running it through the TAGS.get() method you'll get numerical values for every tag. We want the tags in human-readable form. \n",
    "                # You can see the tags and the associated decimal number in the exif standard here: https://exiv2.org/tags.html\n",
    "                tag_name = TAGS.get(tag)\n",
    "                if tag_name == \"GPSInfo\":\n",
    "                    for key, val in value.items():\n",
    "                        print(\"GPS DATA FOUND\")\n",
    "                        # Print the GPS Data value for every key to the screen.\n",
    "                        print(f\"{GPSTAGS.get(key)} - {val}\")\n",
    "                        # We add Latitude data to the gps_coord dictionary which we initialized in line 110.\n",
    "                        if GPSTAGS.get(key) == \"GPSLatitude\":\n",
    "                            gps_coords[\"lat\"] = val\n",
    "                        # We add Longitude data to the gps_coord dictionary which we initialized in line 110.\n",
    "                        elif GPSTAGS.get(key) == \"GPSLongitude\":\n",
    "                            gps_coords[\"lon\"] = val\n",
    "                        # We add Latitude reference data to the gps_coord dictionary which we initialized in line 110.\n",
    "                        elif GPSTAGS.get(key) == \"GPSLatitudeRef\":\n",
    "                            gps_coords[\"lat_ref\"] = val\n",
    "                        # We add Longitude reference data to the gps_coord dictionary which we initialized in line 110.\n",
    "                        elif GPSTAGS.get(key) == \"GPSLongitudeRef\":\n",
    "                            gps_coords[\"lon_ref\"] = val   \n",
    "                else:\n",
    "                    # We print data not related to the GPSInfo.\n",
    "                    #print(\"GPS DATA DID NOT WORK\")\n",
    "                    print(f\"{tag_name} - {value}\")\n",
    "            # We print the longitudinal and latitudinal data which has been formatted for Google Maps. We only do so if the GPS Coordinates exists. \n",
    "            if gps_coords:\n",
    "                dec_deg_lat = convert_decimal_degrees(float(gps_coords[\"lat\"][0]),  float(gps_coords[\"lat\"][1]), float(gps_coords[\"lat\"][2]), gps_coords[\"lat_ref\"])\n",
    "                # We extract the data from the dictionary we sent to this function for longitudinal data.\n",
    "                dec_deg_lon = convert_decimal_degrees(float(gps_coords[\"lon\"][0]),  float(gps_coords[\"lon\"][1]), float(gps_coords[\"lon\"][2]), gps_coords[\"lon_ref\"])    \n",
    "                print(dec_deg_lat, dec_deg_lon)\n",
    "                #print(gps_coords)\n",
    "            # Change back to the original working directory.\n",
    "except IOError:\n",
    "    print(\"File format not supported!\")\n",
    "\n",
    "    "
   ]
  },
  {
   "cell_type": "code",
   "execution_count": 43,
   "id": "e56b6c76",
   "metadata": {},
   "outputs": [
    {
     "name": "stdout",
     "output_type": "stream",
     "text": [
      "ExifImageHeight - 2778\n",
      "ExifImageWidth - 1284\n",
      "DateTimeOriginal - 2023:06:25 00:43:14\n"
     ]
    }
   ],
   "source": [
    "file = \"IMG_2362.PNG\"\n",
    "#file = \"IMG_0035.JPG\"\n",
    "try:\n",
    "        image = Image.open(file)\n",
    "        #print(f\"_______{file}________________\")\n",
    "        if image._getexif() == None:\n",
    "            print(f\"{file} contains no exif data.\")\n",
    "        else:\n",
    "            for tag, value in image._getexif().items():\n",
    "                tag_name = TAGS.get(tag)\n",
    "                if tag_name == \"DateTimeOriginal\" or tag_name == \"ExifImageHeight\" or tag_name == \"ExifImageWidth\":\n",
    "                    print(f\"{tag_name} - {value}\")\n",
    "except IOError:\n",
    "    print(\"File format not supported!\")"
   ]
  },
  {
   "cell_type": "code",
   "execution_count": 44,
   "id": "77eaa073",
   "metadata": {},
   "outputs": [
    {
     "name": "stdout",
     "output_type": "stream",
     "text": [
      "Mel oa oe ee TaDy Decline\n",
      "E Be\n",
      "%\n",
      "i\n",
      "2.\n",
      "\n",
      "E\n",
      "@ oe\n",
      "© avo\n",
      "=\n",
      "oO\n",
      "(ep)\n",
      "ra\n",
      "\n",
      " \n",
      "\n",
      "Olive Ave\n",
      "\n",
      "Belching Beaver Brewery\n",
      "Tavern,and Grill\n",
      "\n",
      "Vista\n",
      "Raising Cane's @\n",
      "ra\n",
      "\n",
      "$6.75 Guaranteed (incl. tips)\n",
      "\n",
      "2.9 mi\n",
      "Deliver by 12:55 AM\n",
      "\n",
      "a Pickup\n",
      "| Jack in the Box\n",
      "tad\n",
      "\n",
      "Customer dropoff\n",
      "\f",
      "\n"
     ]
    }
   ],
   "source": [
    "img = cv2.imread('IMG_2362.PNG')\n",
    "\n",
    "text = pytesseract.image_to_string(img)\n",
    "print(text)"
   ]
  },
  {
   "cell_type": "code",
   "execution_count": null,
   "id": "5188e44f",
   "metadata": {},
   "outputs": [],
   "source": [
    "#So it does read the map, poorly, but if we look for \n",
    "# $* Guaranteed \n",
    "# * mi (although for super short things it does show in yards)\n",
    "# and then grab the rest name from after Pickup | \n",
    "\n",
    "#So step one, strip it until a string matching $* Guaranteed is found\n",
    "#then pull that, distance, and rest name\n",
    "\n",
    "\n",
    "#So we want to get a thing that strips the text down to relevant\n",
    "#Then we want a thing to do this for every image in some folder\n",
    "\n",
    "#So after every shift, drag files into the folder, run the script, it extracts timestamp data and "
   ]
  },
  {
   "cell_type": "code",
   "execution_count": 45,
   "id": "28aa9a1b",
   "metadata": {},
   "outputs": [
    {
     "name": "stdout",
     "output_type": "stream",
     "text": [
      "<class 'str'>\n"
     ]
    }
   ],
   "source": [
    "print(type(text))"
   ]
  },
  {
   "cell_type": "code",
   "execution_count": 48,
   "id": "0234c9bd",
   "metadata": {},
   "outputs": [
    {
     "name": "stdout",
     "output_type": "stream",
     "text": [
      "149\n",
      "$6.75 Guaranteed (incl. tips)\n",
      "\n",
      "2.9 mi\n",
      "Deliver by 12:55 AM\n",
      "\n",
      "a Pickup\n",
      "| Jack in the Box\n",
      "tad\n",
      "\n",
      "Customer dropoff\n",
      "\f",
      "\n"
     ]
    }
   ],
   "source": [
    "dollarPos = text.index(\"$\")\n",
    "print(dollarPos)\n",
    "print(text[dollarPos:])"
   ]
  },
  {
   "cell_type": "code",
   "execution_count": 49,
   "id": "951e0efe",
   "metadata": {},
   "outputs": [
    {
     "name": "stdout",
     "output_type": "stream",
     "text": [
      "Mel oa oe ee TaDy Decline\n",
      "E Be\n",
      "%\n",
      "i\n",
      "2.\n",
      "\n",
      "E\n",
      "@ oe\n",
      "© avo\n",
      "=\n",
      "oO\n",
      "(ep)\n",
      "ra\n",
      "\n",
      " \n",
      "\n",
      "Olive Ave\n",
      "\n",
      "Belching Beaver Brewery\n",
      "Tavern,and Grill\n",
      "\n",
      "Vista\n",
      "Raising Cane's @\n",
      "ra\n",
      "\n",
      "$6.75 Guaranteed (incl. tips)\n",
      "\n",
      "2.9 mi\n",
      "Deliver by 12:55 AM\n",
      "\n",
      "a Pickup\n",
      "| Jack in the Box\n",
      "tad\n",
      "\n",
      "Customer dropoff\n",
      "\n"
     ]
    }
   ],
   "source": [
    "for line in text.splitlines():\n",
    "    print(line)"
   ]
  },
  {
   "cell_type": "code",
   "execution_count": 67,
   "id": "cd41e6da",
   "metadata": {},
   "outputs": [
    {
     "name": "stdout",
     "output_type": "stream",
     "text": [
      "['$6.75 Guaranteed (incl. tips)', '', '2.9 mi', 'Deliver by 12:55 AM', '', 'a Pickup', '| Jack in the Box', 'tad', '', 'Customer dropoff', '']\n"
     ]
    }
   ],
   "source": [
    "position = text.index(\"$\")\n",
    "#textsplit = textsplit.strip(\"\\n\")\n",
    "textsplit = text[position:].splitlines()\n",
    "#textsplit = textsplit.remove('')\n",
    "print(textsplit)"
   ]
  },
  {
   "cell_type": "code",
   "execution_count": 69,
   "id": "4b783be6",
   "metadata": {},
   "outputs": [
    {
     "name": "stdout",
     "output_type": "stream",
     "text": [
      "['$6.75 Guaranteed (incl. tips)', '2.9 mi', 'Deliver by 12:55 AM', 'a Pickup', '| Jack in the Box', 'tad', 'Customer dropoff']\n"
     ]
    }
   ],
   "source": [
    "#textsplit.remove('')\n",
    "#print(textsplit)\n",
    "#this just removes the first one\n",
    "while (\"\" in textsplit):\n",
    "    textsplit.remove(\"\")\n",
    "print(textsplit)"
   ]
  },
  {
   "cell_type": "code",
   "execution_count": 73,
   "id": "d1fc2254",
   "metadata": {},
   "outputs": [
    {
     "name": "stdout",
     "output_type": "stream",
     "text": [
      "$6.75 Guaranteed (incl. tips) 2.9 mi | Jack in the Box\n",
      "$6.75 2.9  Jack in the Box\n"
     ]
    }
   ],
   "source": [
    "#Okay so, remove just removes the first instance from a list, it would make sense to have to iterate through it \n",
    "\n",
    "#Now we want to extract to three vars, dollar amount, mileage, and rest name\n",
    "#I think we can assume that this will always be the format at this point, at least we can test for now\n",
    "#so we want the first line until the first whitespace\n",
    "#the second line until whitespace (and eventually to check mi or yards)\n",
    "#and the 5th line after whitespace\n",
    "\n",
    "#We might later want to just use all over textsplit[1] on the off chance its in yards\n",
    "#and if yards convert to miles\n",
    "\n",
    "var1 = textsplit[0]\n",
    "var2 = textsplit[1]\n",
    "var3 = textsplit[4]\n",
    "print (var1, var2, var3)\n",
    "index1 = var1.index(\" \")\n",
    "var1 = var1[:index1]\n",
    "index2 = var2.index(\" \")\n",
    "var2 = var2[:index2]\n",
    "index3 = var3.index(\" \")\n",
    "var3 = var3[index3:]\n",
    "print (var1, var2, var3)"
   ]
  },
  {
   "cell_type": "code",
   "execution_count": 81,
   "id": "6a1b15cd",
   "metadata": {},
   "outputs": [
    {
     "name": "stdout",
     "output_type": "stream",
     "text": [
      "IMG_2289.PNG\n",
      "IMG_2303.PNG\n",
      "IMG_2319.PNG\n",
      "IMG_2358.PNG\n",
      "IMG_2288.PNG\n",
      "IMG_2341.PNG\n",
      "IMG_2334.PNG\n",
      "IMG_2361.PNG\n",
      "IMG_2283.PNG\n",
      "IMG_2359.PNG\n",
      "IMG_2308.PNG\n",
      "IMG_2327.PNG\n",
      "IMG_2318.PNG\n",
      "IMG_2321.PNG\n",
      "IMG_2279.PNG\n",
      "IMG_2330.PNG\n",
      "IMG_2362.PNG\n",
      "IMG_2351.PNG\n",
      "IMG_2349.PNG\n",
      "IMG_2314.PNG\n",
      "IMG_2281.PNG\n",
      "IMG_2317.PNG\n",
      "IMG_2323.PNG\n",
      "IMG_2363.PNG\n",
      "IMG_2306.PNG\n",
      "IMG_2339.PNG\n",
      "IMG_2329.PNG\n",
      "IMG_2326.PNG\n",
      "IMG_2352.PNG\n",
      "IMG_2332.PNG\n",
      "IMG_2360.PNG\n",
      "IMG_2284.PNG\n",
      "IMG_2348.PNG\n",
      "IMG_2336.PNG\n",
      "IMG_2298.PNG\n",
      "IMG_2343.PNG\n",
      "NotForProcessing\n",
      "IMG_2287.PNG\n",
      "IMG_2328.PNG\n",
      "IMG_2309.PNG\n",
      "IMG_2322.PNG\n",
      "IMG_2304.PNG\n",
      "IMG_2296.PNG\n",
      "IMG_2345.PNG\n",
      "IMG_2280.PNG\n",
      "IMG_2312.PNG\n",
      "IMG_2301.PNG\n",
      "IMG_2347.PNG\n",
      "IMG_2333.PNG\n",
      "IMG_2340.PNG\n",
      "IMG_2338.PNG\n",
      "IMG_2315.PNG\n",
      "IMG_2346.PNG\n",
      "IMG_2324.PNG\n",
      "IMG_2353.PNG\n",
      "IMG_2337.PNG\n",
      "IMG_2350.PNG\n",
      "IMG_2320.PNG\n",
      "IMG_2325.PNG\n",
      "IMG_2366.PNG\n",
      "IMG_2367.PNG\n",
      "IMG_2354.PNG\n"
     ]
    }
   ],
   "source": [
    "#Get all the file names\n",
    "#So we'll want a function to extract the text, but we need to identify an offer vs a complete \n",
    "#and also a stack\n",
    "# So if Guaranteed (inc. tips) in text, then is offer, if first char of that is + then staggered stack\n",
    "# else, do other format\n",
    "# What is heuristic for natural stack, says pickup twice?? yeah same or diff cust addr will say pickup twice\n",
    "\n",
    "#We cant hard track 2nd and 5th indeces, so we need to look for miles (or yards) and then, well | I guess\n",
    "#Look for | twice for natty stacks\n",
    "\n",
    "import os\n",
    "#print(os.getcwd())\n",
    "dir1 = os.getcwd() + \"/ScreenShots\"\n",
    "#print(type(os.listdir(dir)))\n",
    "imageList = os.listdir(dir1)\n",
    "for file in imageList:\n",
    "    print(file)\n"
   ]
  },
  {
   "cell_type": "code",
   "execution_count": 83,
   "id": "408fdea1",
   "metadata": {},
   "outputs": [
    {
     "name": "stdout",
     "output_type": "stream",
     "text": [
      "IMG_2289.PNG\n",
      "IMG_2303.PNG\n",
      "IMG_2319.PNG\n",
      "IMG_2358.PNG\n",
      "IMG_2288.PNG\n",
      "IMG_2341.PNG\n",
      "IMG_2334.PNG\n",
      "IMG_2361.PNG\n",
      "IMG_2283.PNG\n",
      "IMG_2359.PNG\n",
      "IMG_2308.PNG\n",
      "IMG_2327.PNG\n",
      "IMG_2318.PNG\n",
      "IMG_2321.PNG\n",
      "IMG_2279.PNG\n",
      "IMG_2330.PNG\n",
      "IMG_2362.PNG\n",
      "IMG_2351.PNG\n",
      "IMG_2349.PNG\n",
      "IMG_2314.PNG\n",
      "IMG_2281.PNG\n",
      "IMG_2317.PNG\n",
      "IMG_2323.PNG\n",
      "IMG_2363.PNG\n",
      "IMG_2306.PNG\n",
      "IMG_2339.PNG\n",
      "IMG_2329.PNG\n",
      "IMG_2326.PNG\n",
      "IMG_2352.PNG\n",
      "IMG_2332.PNG\n",
      "IMG_2360.PNG\n",
      "IMG_2284.PNG\n",
      "IMG_2348.PNG\n",
      "IMG_2336.PNG\n",
      "IMG_2298.PNG\n",
      "IMG_2343.PNG\n",
      "IMG_2287.PNG\n",
      "IMG_2328.PNG\n",
      "IMG_2309.PNG\n",
      "IMG_2322.PNG\n",
      "IMG_2304.PNG\n",
      "IMG_2296.PNG\n",
      "IMG_2345.PNG\n",
      "IMG_2280.PNG\n",
      "IMG_2312.PNG\n",
      "IMG_2301.PNG\n",
      "IMG_2347.PNG\n",
      "IMG_2333.PNG\n",
      "IMG_2340.PNG\n",
      "IMG_2338.PNG\n",
      "IMG_2315.PNG\n",
      "IMG_2346.PNG\n",
      "IMG_2324.PNG\n",
      "IMG_2353.PNG\n",
      "IMG_2337.PNG\n",
      "IMG_2350.PNG\n",
      "IMG_2320.PNG\n",
      "IMG_2325.PNG\n",
      "IMG_2366.PNG\n",
      "IMG_2367.PNG\n",
      "IMG_2354.PNG\n"
     ]
    }
   ],
   "source": [
    "from os import walk\n",
    "filenames = next(walk(dir1), (None, None, []))[2]\n",
    "#Okay that seems like a pretty decent oneliner, will need to look into how walk actually works later on\n",
    "for file in filenames:\n",
    "    print(file)"
   ]
  },
  {
   "cell_type": "code",
   "execution_count": 84,
   "id": "7c7263c8",
   "metadata": {},
   "outputs": [
    {
     "name": "stdout",
     "output_type": "stream",
     "text": [
      "IMG_2289.PNG\n",
      "IMG_2303.PNG\n",
      "IMG_2319.PNG\n",
      "IMG_2358.PNG\n",
      "IMG_2288.PNG\n",
      "IMG_2341.PNG\n",
      "IMG_2334.PNG\n",
      "IMG_2361.PNG\n",
      "IMG_2283.PNG\n",
      "IMG_2359.PNG\n",
      "IMG_2308.PNG\n",
      "IMG_2327.PNG\n",
      "IMG_2318.PNG\n",
      "IMG_2321.PNG\n",
      "IMG_2279.PNG\n",
      "IMG_2330.PNG\n",
      "IMG_2362.PNG\n",
      "IMG_2351.PNG\n",
      "IMG_2349.PNG\n",
      "IMG_2314.PNG\n",
      "IMG_2281.PNG\n",
      "IMG_2317.PNG\n",
      "IMG_2323.PNG\n",
      "IMG_2363.PNG\n",
      "IMG_2306.PNG\n",
      "IMG_2339.PNG\n",
      "IMG_2329.PNG\n",
      "IMG_2326.PNG\n",
      "IMG_2352.PNG\n",
      "IMG_2332.PNG\n",
      "IMG_2360.PNG\n",
      "IMG_2284.PNG\n",
      "IMG_2348.PNG\n",
      "IMG_2336.PNG\n",
      "IMG_2298.PNG\n",
      "IMG_2343.PNG\n",
      "IMG_2287.PNG\n",
      "IMG_2328.PNG\n",
      "IMG_2309.PNG\n",
      "IMG_2322.PNG\n",
      "IMG_2304.PNG\n",
      "IMG_2296.PNG\n",
      "IMG_2345.PNG\n",
      "IMG_2280.PNG\n",
      "IMG_2312.PNG\n",
      "IMG_2301.PNG\n",
      "IMG_2347.PNG\n",
      "IMG_2333.PNG\n",
      "IMG_2340.PNG\n",
      "IMG_2338.PNG\n",
      "IMG_2315.PNG\n",
      "IMG_2346.PNG\n",
      "IMG_2324.PNG\n",
      "IMG_2353.PNG\n",
      "IMG_2337.PNG\n",
      "IMG_2350.PNG\n",
      "IMG_2320.PNG\n",
      "IMG_2325.PNG\n",
      "IMG_2366.PNG\n",
      "IMG_2367.PNG\n",
      "IMG_2354.PNG\n"
     ]
    }
   ],
   "source": [
    "for file in filenames:\n",
    "    print(file)"
   ]
  },
  {
   "cell_type": "code",
   "execution_count": 89,
   "id": "575df383",
   "metadata": {},
   "outputs": [
    {
     "name": "stdout",
     "output_type": "stream",
     "text": [
      "/home/crawford/Desktop/Code/dashstats/ScreenShotsIMG_2289.PNG\n",
      "$11.50 Guaranteed (incl. tips)\n",
      "10.8 mi\n",
      "Deliver by 3:31PM\n",
      "Pickup\n",
      "Sushi Yukiya\n",
      "Retail Pickup\n",
      "7-Eleven\n",
      "f Customer dropoff\n",
      "5) Both orders go to the same customer\n",
      "Accept\n",
      " \n"
     ]
    }
   ],
   "source": [
    "#print(dir1 + filenames[0])\n",
    "\n",
    "img = cv2.imread(dir1 + \"/\" + filenames[0])\n",
    "text = pytesseract.image_to_string(img)\n",
    "position = text.index(\"$\")\n",
    "textsplit = text[position:].splitlines()\n",
    "while (\"\" in textsplit):\n",
    "    textsplit.remove(\"\")\n",
    "for line in textsplit:\n",
    "    print(line)\n",
    "    \n",
    "#Okay, interesting, workable, files are not sorted and we dont have a | to look for, so the line after Pickup?\n",
    "#If pickup appears twice, line after 1st and second pickup"
   ]
  },
  {
   "cell_type": "code",
   "execution_count": 90,
   "id": "ec4ac519",
   "metadata": {},
   "outputs": [
    {
     "name": "stdout",
     "output_type": "stream",
     "text": [
      "$13.50 Guaranteed (incl. tips)\n",
      "5.5 mi\n",
      "Deliver by 1:45 PM\n",
      "a Pickup\n",
      "China Fusion\n",
      "f Customer dropoff\n"
     ]
    }
   ],
   "source": [
    "filenames = sorted(filenames)\n",
    "img = cv2.imread(dir1 + \"/\" + filenames[0])\n",
    "text = pytesseract.image_to_string(img)\n",
    "position = text.index(\"$\")\n",
    "textsplit = text[position:].splitlines()\n",
    "while (\"\" in textsplit):\n",
    "    textsplit.remove(\"\")\n",
    "for line in textsplit:\n",
    "    print(line)\n",
    "    \n",
    "#Beautiful! Lets see what a complete looks like"
   ]
  },
  {
   "cell_type": "code",
   "execution_count": 95,
   "id": "2d18cf10",
   "metadata": {},
   "outputs": [
    {
     "name": "stdout",
     "output_type": "stream",
     "text": [
      "TIME SENSITIVE\n",
      "\n",
      "New Message from\n",
      "\n",
      " \n",
      "\n",
      "© Earn per offer\n",
      "\n",
      "Delivery Completed\n",
      "DoorDash Pay\n",
      "Base Pay\n",
      "\n",
      "Customer Tips\n",
      "China Fusion\n",
      "\n",
      "Total @\n",
      "\n",
      " \n",
      "\f",
      "\n"
     ]
    }
   ],
   "source": [
    "filenames = sorted(filenames)\n",
    "img = cv2.imread(dir1 + \"/\" + filenames[1])\n",
    "text = pytesseract.image_to_string(img)\n",
    "print(text)\n",
    "\n",
    "#Not beautiful! It doesn't read in the numbers? We do not like this, so we need to poke around opencv\n",
    "#or pytess docs further\n",
    "\n",
    "#position = text.index(\"$\")\n",
    "#textsplit = text[position:].splitlines()\n",
    "#while (\"\" in textsplit):\n",
    "#    textsplit.remove(\"\")\n",
    "#for line in textsplit:\n",
    "#    print(line)\n",
    "    "
   ]
  },
  {
   "cell_type": "code",
   "execution_count": 96,
   "id": "369649b8",
   "metadata": {},
   "outputs": [
    {
     "name": "stdout",
     "output_type": "stream",
     "text": [
      "TIME SENSITIVE\n",
      "\n",
      "&) New Message from\n",
      "Drop-off location\n",
      "\n",
      " \n",
      "\n",
      "© Earn per offer\n",
      "\n",
      "Delivery Completed\n",
      "DoorDash Pay\n",
      "Base Pay\n",
      "\n",
      "Customer Tips\n",
      "China Fusion\n",
      "\n",
      "Total @\n",
      "\n",
      " \n",
      "\f",
      "\n"
     ]
    }
   ],
   "source": [
    "filenames = sorted(filenames)\n",
    "img = cv2.imread(dir1 + \"/\" + filenames[1])\n",
    "img = cv2.cvtColor(img, cv2.COLOR_BGR2GRAY)\n",
    "text = pytesseract.image_to_string(img)\n",
    "print(text)"
   ]
  },
  {
   "cell_type": "code",
   "execution_count": null,
   "id": "61acbe44",
   "metadata": {},
   "outputs": [],
   "source": [
    "#Its also weird that it doesn't read finish, too sleepy for now will work more tomorrow"
   ]
  }
 ],
 "metadata": {
  "kernelspec": {
   "display_name": "Python 3 (ipykernel)",
   "language": "python",
   "name": "python3"
  },
  "language_info": {
   "codemirror_mode": {
    "name": "ipython",
    "version": 3
   },
   "file_extension": ".py",
   "mimetype": "text/x-python",
   "name": "python",
   "nbconvert_exporter": "python",
   "pygments_lexer": "ipython3",
   "version": "3.10.9"
  }
 },
 "nbformat": 4,
 "nbformat_minor": 5
}
