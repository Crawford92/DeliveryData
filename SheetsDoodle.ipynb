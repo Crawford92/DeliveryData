{
 "cells": [
  {
   "cell_type": "code",
   "execution_count": 1,
   "id": "8c2df1bd",
   "metadata": {},
   "outputs": [
    {
     "name": "stdout",
     "output_type": "stream",
     "text": [
      "Why hello there\n"
     ]
    }
   ],
   "source": [
    "print(\"Why hello there\")"
   ]
  },
  {
   "cell_type": "code",
   "execution_count": 16,
   "id": "4eb996d5",
   "metadata": {},
   "outputs": [
    {
     "name": "stdout",
     "output_type": "stream",
     "text": [
      "<class 'pygsheets.spreadsheet.Spreadsheet'>\n",
      "<Worksheet 'DeliveriesOld' index:0>\n",
      "<Worksheet 'Deliveries' index:1>\n",
      "<Worksheet 'Days' index:2>\n",
      "<Worksheet 'Weeks' index:3>\n",
      "<Worksheet 'RawNames' index:4>\n",
      "<Worksheet 'GPS' index:5>\n",
      "<Worksheet 'Lifetime Deliveries' index:6>\n",
      "<Worksheet 'Import' index:7>\n",
      "<Worksheet 'Days Old' index:8>\n",
      "<Worksheet 'Weeks Old' index:9>\n",
      "<class 'pygsheets.worksheet.Worksheet'>\n"
     ]
    }
   ],
   "source": [
    "import pygsheets\n",
    "import pandas as pd\n",
    "#authorization\n",
    "gc = pygsheets.authorize(service_file='file.json')\n",
    "\n",
    "# Create empty dataframe\n",
    "df = pd.DataFrame()\n",
    "\n",
    "# Create a column\n",
    "df['name'] = ['John', 'Steve', 'Sarah']\n",
    "\n",
    "#open the google spreadsheet (where 'PY to Gsheet Test' is the name of my sheet)\n",
    "sh = gc.open('DashData')\n",
    "\n",
    "print(type(sh))\n",
    "\n",
    "for x in sh:\n",
    "    print(x)\n",
    "    \n",
    "\n",
    "\n",
    "#SELECTS THE 7TH SHEET, IMPORT, WHICH WE MUST NOW ALWAYS BE SURE IS THE 7TH SHEET\n",
    "wks = sh[7]\n",
    "\n",
    "print(type(wks))\n",
    "\n",
    "#update the first sheet with df, starting at cell B2. \n",
    "wks.set_dataframe(df,(1,1))"
   ]
  },
  {
   "cell_type": "code",
   "execution_count": 8,
   "id": "b6c61bf0",
   "metadata": {},
   "outputs": [
    {
     "data": {
      "text/plain": [
       "[{'id': '1nbh-i27-F5nk5m1JHRwJaazJ8o9Cn7CkNg0CFVMEK00', 'name': 'DashData'}]"
      ]
     },
     "execution_count": 8,
     "metadata": {},
     "output_type": "execute_result"
    }
   ],
   "source": [
    "gc.drive.spreadsheet_metadata()"
   ]
  },
  {
   "cell_type": "code",
   "execution_count": null,
   "id": "51826413",
   "metadata": {},
   "outputs": [],
   "source": []
  }
 ],
 "metadata": {
  "kernelspec": {
   "display_name": "Python 3 (ipykernel)",
   "language": "python",
   "name": "python3"
  },
  "language_info": {
   "codemirror_mode": {
    "name": "ipython",
    "version": 3
   },
   "file_extension": ".py",
   "mimetype": "text/x-python",
   "name": "python",
   "nbconvert_exporter": "python",
   "pygments_lexer": "ipython3",
   "version": "3.10.9"
  }
 },
 "nbformat": 4,
 "nbformat_minor": 5
}
